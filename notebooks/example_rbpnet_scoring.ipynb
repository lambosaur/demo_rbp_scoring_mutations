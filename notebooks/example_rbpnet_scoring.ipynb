{
 "cells": [
  {
   "cell_type": "code",
   "execution_count": null,
   "metadata": {},
   "outputs": [],
   "source": []
  },
  {
   "cell_type": "code",
   "execution_count": null,
   "metadata": {},
   "outputs": [],
   "source": []
  },
  {
   "cell_type": "markdown",
   "metadata": {},
   "source": [
    "# Overview"
   ]
  },
  {
   "cell_type": "code",
   "execution_count": null,
   "metadata": {},
   "outputs": [],
   "source": []
  },
  {
   "cell_type": "markdown",
   "metadata": {},
   "source": [
    "# Imports"
   ]
  },
  {
   "cell_type": "code",
   "execution_count": 1,
   "metadata": {},
   "outputs": [],
   "source": [
    "from pathlib import Path\n",
    "import sys\n",
    "import os\n",
    "from typing import Dict, List, Tuple\n",
    "\n",
    "import pyfaidx\n",
    "\n",
    "import importlib\n",
    "\n",
    "import pandas as pd\n",
    "import numpy as np\n",
    "\n",
    "import matplotlib as mpl\n",
    "import matplotlib.pyplot as plt\n",
    "import seaborn as sns"
   ]
  },
  {
   "cell_type": "code",
   "execution_count": 2,
   "metadata": {},
   "outputs": [
    {
     "name": "stderr",
     "output_type": "stream",
     "text": [
      "2024-11-11 20:47:04.871243: E external/local_xla/xla/stream_executor/cuda/cuda_dnn.cc:9261] Unable to register cuDNN factory: Attempting to register factory for plugin cuDNN when one has already been registered\n",
      "2024-11-11 20:47:04.871277: E external/local_xla/xla/stream_executor/cuda/cuda_fft.cc:607] Unable to register cuFFT factory: Attempting to register factory for plugin cuFFT when one has already been registered\n",
      "2024-11-11 20:47:04.872174: E external/local_xla/xla/stream_executor/cuda/cuda_blas.cc:1515] Unable to register cuBLAS factory: Attempting to register factory for plugin cuBLAS when one has already been registered\n",
      "2024-11-11 20:47:06.296104: E external/local_xla/xla/stream_executor/cuda/cuda_driver.cc:274] failed call to cuInit: CUDA_ERROR_NO_DEVICE: no CUDA-capable device is detected\n"
     ]
    }
   ],
   "source": [
    "import rbpnet.utils\n",
    "import rbpnet.models\n",
    "import rbpnet.bin.explain"
   ]
  },
  {
   "cell_type": "code",
   "execution_count": 11,
   "metadata": {},
   "outputs": [
    {
     "data": {
      "text/plain": [
       "<tf.Tensor: shape=(4, 4), dtype=float32, numpy=\n",
       "array([[1., 0., 0., 0.],\n",
       "       [0., 1., 0., 0.],\n",
       "       [0., 0., 1., 0.],\n",
       "       [0., 0., 0., 1.]], dtype=float32)>"
      ]
     },
     "execution_count": 11,
     "metadata": {},
     "output_type": "execute_result"
    }
   ],
   "source": []
  },
  {
   "cell_type": "markdown",
   "metadata": {},
   "source": [
    "# Load"
   ]
  },
  {
   "cell_type": "code",
   "execution_count": 3,
   "metadata": {},
   "outputs": [
    {
     "name": "stdout",
     "output_type": "stream",
     "text": [
      "Model: \"RBPNet\"\n",
      "__________________________________________________________________________________________________\n",
      " Layer (type)                Output Shape                 Param #   Connected to                  \n",
      "==================================================================================================\n",
      " sequence (InputLayer)       [(None, None, 4)]            0         []                            \n",
      "                                                                                                  \n",
      " first_layer_conv (FirstLay  (None, None, 128)            6272      ['sequence[0][0]']            \n",
      " erConv)                                                                                          \n",
      "                                                                                                  \n",
      " body_conv_1 (BodyConv)      (None, None, 128)            98944     ['first_layer_conv[0][0]']    \n",
      "                                                                                                  \n",
      " body_conv_2 (BodyConv)      (None, None, 128)            98944     ['body_conv_1[0][0]']         \n",
      "                                                                                                  \n",
      " body_conv_3 (BodyConv)      (None, None, 128)            98944     ['body_conv_2[0][0]']         \n",
      "                                                                                                  \n",
      " body_conv_4 (BodyConv)      (None, None, 128)            98944     ['body_conv_3[0][0]']         \n",
      "                                                                                                  \n",
      " body_conv_5 (BodyConv)      (None, None, 128)            98944     ['body_conv_4[0][0]']         \n",
      "                                                                                                  \n",
      " body_conv_6 (BodyConv)      (None, None, 128)            98944     ['body_conv_5[0][0]']         \n",
      "                                                                                                  \n",
      " body_conv_7 (BodyConv)      (None, None, 128)            98944     ['body_conv_6[0][0]']         \n",
      "__________________________________________________________________________________________________\n",
      " Layer (type)                Output Shape                 Param #   Connected to                  \n",
      "==================================================================================================\n",
      " sequence (InputLayer)       [(None, None, 4)]            0         []                            \n",
      "                                                                                                  \n",
      " first_layer_conv (FirstLay  (None, None, 128)            6272      ['sequence[0][0]']            \n",
      " erConv)                                                                                          \n",
      "                                                                                                  \n",
      " body_conv_1 (BodyConv)      (None, None, 128)            98944     ['first_layer_conv[0][0]']    \n",
      "                                                                                                  \n",
      " body_conv_2 (BodyConv)      (None, None, 128)            98944     ['body_conv_1[0][0]']         \n",
      "                                                                                                  \n",
      " body_conv_3 (BodyConv)      (None, None, 128)            98944     ['body_conv_2[0][0]']         \n",
      "                                                                                                  \n",
      " body_conv_4 (BodyConv)      (None, None, 128)            98944     ['body_conv_3[0][0]']         \n",
      "                                                                                                  \n",
      " body_conv_5 (BodyConv)      (None, None, 128)            98944     ['body_conv_4[0][0]']         \n",
      "                                                                                                  \n",
      " body_conv_6 (BodyConv)      (None, None, 128)            98944     ['body_conv_5[0][0]']         \n",
      "                                                                                                  \n",
      " body_conv_7 (BodyConv)      (None, None, 128)            98944     ['body_conv_6[0][0]']         \n",
      "                                                                                                  \n",
      " body_conv_8 (BodyConv)      (None, None, 128)            98944     ['body_conv_7[0][0]']         \n",
      "                                                                                                  \n",
      " body_conv_9 (BodyConv)      (None, None, 128)            98944     ['body_conv_8[0][0]']         \n",
      "                                                                                                  \n",
      " QKI_HepG2_mixing_coefficie  (None, 1)                    129       ['body_conv_9[0][0]']         \n",
      " nt (SequenceAdditiveMixing                                                                       \n",
      " Coefficient)                                                                                     \n",
      "                                                                                                  \n",
      " QKI_HepG2_profile_target (  (None, None)                 2561      ['body_conv_9[0][0]']         \n",
      " ProfileHead)                                                                                     \n",
      "                                                                                                  \n",
      " QKI_HepG2_profile_control   (None, None)                 2561      ['body_conv_9[0][0]']         \n",
      " (ProfileHead)                                                                                    \n",
      "                                                                                                  \n",
      " QKI_HepG2_profile (Additiv  (None, None)                 0         ['QKI_HepG2_profile_target[0][\n",
      " eTargetBias)                                                       0]',                          \n",
      "                                                                     'QKI_HepG2_profile_control[0]\n",
      "                                                                    [0]',                         \n",
      "                                                                     'QKI_HepG2_mixing_coefficient\n",
      "                                                                    [0][0]']                      \n",
      "                                                                                                  \n",
      "==================================================================================================\n",
      "Total params: 902019 (3.44 MB)\n",
      "Trainable params: 899715 (3.43 MB)\n",
      "Non-trainable params: 2304 (9.00 KB)\n",
      "__________________________________________________________________________________________________\n"
     ]
    }
   ],
   "source": [
    "filepath_model = Path(\"../data/rbpnet_models/QKI.model.h5\")\n",
    "model = rbpnet.models.load_model(filepath_model)\n",
    "model.summary()"
   ]
  },
  {
   "cell_type": "code",
   "execution_count": 4,
   "metadata": {},
   "outputs": [],
   "source": [
    "main_human_chroms = [f\"chr{i}\" for i in range(1,23)] + [\"chrX\", \"chrY\"]\n",
    "\n",
    "path = \"../example_data/hg38.chrom.sizes\"\n",
    "hg38_chromsizes = pd.read_csv(path, header=None, index_col=None, sep=\"\\t\", names=[\"chr\", \"size\"]).set_index('chr')['size'].to_dict()\n",
    "\n",
    "fasta_path = \"../example_data/hg38.chr21.fa.gz\"\n",
    "fa = pyfaidx.Faidx(str(fasta_path))\n",
    "\n",
    "# Note: this can be used as a context-manager too.\n",
    "with pyfaidx.Faidx(str(fasta_path)) as cm_fa:\n",
    "    # NOTE: specific to this library : the coordinates should be 1-based, close-ended, i.e. [1, 1] returns the \"first\" base.\n",
    "    seq_fetched = str(cm_fa.fetch(\"chr21\", 33_031_601, 33_032_000))\n",
    "    assert (len(seq_fetched) == 400)"
   ]
  },
  {
   "cell_type": "code",
   "execution_count": 29,
   "metadata": {},
   "outputs": [],
   "source": [
    "encore_peaks_columns = [\n",
    "    \"chrom\",\n",
    "    \"start\",\n",
    "    \"end\",\n",
    "    \"name\",\n",
    "    \"score\",\n",
    "    \"strand\",\n",
    "    \"signal_value\",\n",
    "    \"p_value\",\n",
    "    \"q_value\",\n",
    "    \"peak\",\n",
    "]\n",
    "\n",
    "# From https://www.encodeproject.org/files/ENCFF815XNW/@@download/ENCFF815XNW.bed.gz\n",
    "peaks = pd.read_csv(\n",
    "    \"../data/encore_peaks/ENCFF815XNW.bed.gz\",\n",
    "    header=None,\n",
    "    index_col=None,\n",
    "    sep=\"\\t\",\n",
    "    names=encore_peaks_columns,\n",
    ")\n",
    "\n",
    "# Filter on : 1) main chromosomes ; 2) score at maximum value ; 3) signal value above threshold.\n",
    "peaks = (\n",
    "    peaks.loc[\n",
    "        lambda df: (\n",
    "            (peaks[\"chrom\"].isin(main_human_chroms))\n",
    "            & (df[\"chrom\"] == \"chr21\")\n",
    "            & (df[\"strand\"] == \"+\")\n",
    "        ),\n",
    "        :,\n",
    "    ]\n",
    "    .sort_values(by=\"signal_value\", ascending=True)\n",
    "    .reset_index(drop=True)\n",
    "    .copy()\n",
    ")\n",
    "# .sort_values(by=[\"chrom\",\"start\"], ascending=[True,True])"
   ]
  },
  {
   "cell_type": "code",
   "execution_count": 26,
   "metadata": {},
   "outputs": [],
   "source": [
    "import tensorflow as tf\n",
    "\n",
    "import igrads\n",
    "\n",
    "def explain_step(sequence, model):\n",
    "    \"\"\"Returns the 1D attribution for a single input sequence.\n",
    "\n",
    "    The 2D (input_length, 4) attribution tensor is flattened to a 1D array, as at\n",
    "rojects/hzm/rbpnet/rbpnet/bin/explain.py:0'>0</a>;32m   (...)\n",
    "        np.ndarray: 1D numpy array with attribution values.\n",
    "    \"\"\"\n",
    "    def attribution(inputs, model):\n",
    "        pred = model.predict(tf.expand_dims(inputs, axis=0))\n",
    "        return igrads.integrated_gradients(inputs=inputs, model=model, baseline=0, target_mask=pred, steps=50)\n",
    "\n",
    "    return {key: tf.reduce_sum(value, axis=1).numpy() for key, value in attribution(rbpnet.utils.sequence2onehot(sequence), model).items()}"
   ]
  },
  {
   "cell_type": "code",
   "execution_count": 30,
   "metadata": {},
   "outputs": [],
   "source": [
    "intervals = []\n",
    "sequences = []\n",
    "predictions = []\n",
    "igs = []\n",
    "\n",
    "for i, row in peaks.head(100).iterrows():\n",
    "    # Note: eCLIP peaks' 5prime end is a better location of the RBP binding site than the peak center.\n",
    "    # We extract here intervals of 400bp centered around the 5' end of the peak.\n",
    "    # Note: this is to be adapted for minus strand sequences (along with taking the reverse complement).\n",
    "    start = row['start'] - 200 +1\n",
    "    end = row['start'] + 200 # do not forget : 1-based interval query ; while the BED is 0-based by convention.\n",
    "    if start < 0 or end >= hg38_chromsizes[row['chrom']]:\n",
    "        continue\n",
    "\n",
    "    interval = f\"{row['chrom']}:{start}-{end}:+\"\n",
    "    seq = str(fa.fetch(row['chrom'], start, end)).upper()\n",
    "\n",
    "    preds = model.predict_from_sequence(seq)\n",
    "\n",
    "    #TODO: bugged\n",
    "    #ig_model = explain_step(sequence=seq, model=model)\n",
    "\n",
    "    intervals.append(interval)\n",
    "    sequences.append(seq)\n",
    "    predictions.append(preds)\n",
    "    #igs.append(ig_model)\n",
    "\n",
    "for i, row in peaks.tail(100).iterrows():\n",
    "    # Note: eCLIP peaks' 5prime end is a better location of the RBP binding site than the peak center.\n",
    "    # We extract here intervals of 400bp centered around the 5' end of the peak.\n",
    "    # Note: this is to be adapted for minus strand sequences (along with taking the reverse complement).\n",
    "    start = row['start'] - 200 +1\n",
    "    end = row['start'] + 200 # do not forget : 1-based interval query ; while the BED is 0-based by convention.\n",
    "    if start < 0 or end >= hg38_chromsizes[row['chrom']]:\n",
    "        continue\n",
    "\n",
    "    interval = f\"{row['chrom']}:{start}-{end}:+\"\n",
    "    seq = str(fa.fetch(row['chrom'], start, end)).upper()\n",
    "\n",
    "    preds = model.predict_from_sequence(seq)\n",
    "\n",
    "    #TODO: bugged\n",
    "    #ig_model = explain_step(sequence=seq, model=model)\n",
    "\n",
    "    intervals.append(interval)\n",
    "    sequences.append(seq)\n",
    "    predictions.append(preds)\n",
    "    #igs.append(ig_model)\n",
    "\n"
   ]
  },
  {
   "cell_type": "code",
   "execution_count": 36,
   "metadata": {},
   "outputs": [],
   "source": [
    "df_mixcoef = pd.Series([p['QKI_HepG2_mixing_coefficient'].numpy()[0] for p in predictions], name='QKI_HepG2_mixing_coefficient').to_frame()\n",
    "df_mixcoef['seq_group'] = ['top100']*100 + ['bottom100']*100"
   ]
  },
  {
   "cell_type": "code",
   "execution_count": 37,
   "metadata": {},
   "outputs": [
    {
     "data": {
      "text/plain": [
       "<Axes: xlabel='seq_group', ylabel='QKI_HepG2_mixing_coefficient'>"
      ]
     },
     "execution_count": 37,
     "metadata": {},
     "output_type": "execute_result"
    },
    {
     "data": {
      "image/png": "[encoded data removed]",
      "text/plain": [
       "<Figure size 640x480 with 1 Axes>"
      ]
     },
     "metadata": {},
     "output_type": "display_data"
    }
   ],
   "source": [
    "sns.boxplot(\n",
    "    x='seq_group',\n",
    "    y='QKI_HepG2_mixing_coefficient',\n",
    "    data=df_mixcoef,\n",
    ")"
   ]
  }
 ],
 "metadata": {
  "kernelspec": {
   "display_name": "rbpnet_jupyter",
   "language": "python",
   "name": "python3"
  },
  "language_info": {
   "codemirror_mode": {
    "name": "ipython",
    "version": 3
   },
   "file_extension": ".py",
   "mimetype": "text/x-python",
   "name": "python",
   "nbconvert_exporter": "python",
   "pygments_lexer": "ipython3",
   "version": "3.9.15"
  }
 },
 "nbformat": 4,
 "nbformat_minor": 2
}
